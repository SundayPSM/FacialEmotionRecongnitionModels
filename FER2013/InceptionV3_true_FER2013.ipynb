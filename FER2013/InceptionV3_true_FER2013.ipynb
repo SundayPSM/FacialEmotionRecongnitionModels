{
  "nbformat": 4,
  "nbformat_minor": 0,
  "metadata": {
    "colab": {
      "provenance": [],
      "collapsed_sections": [],
      "machine_shape": "hm"
    },
    "kernelspec": {
      "name": "python3",
      "display_name": "Python 3"
    },
    "language_info": {
      "name": "python"
    },
    "accelerator": "GPU",
    "gpuClass": "premium"
  },
  "cells": [
    {
      "cell_type": "code",
      "source": [
        "gpu_info = !nvidia-smi\n",
        "gpu_info = '\\n'.join(gpu_info)\n",
        "if gpu_info.find('failed') >= 0:\n",
        "  print('Not connected to a GPU')\n",
        "else:\n",
        "  print(gpu_info)"
      ],
      "metadata": {
        "colab": {
          "base_uri": "https://localhost:8080/"
        },
        "id": "o6b8jUdys0Up",
        "outputId": "41402237-8692-4286-b910-3f0fdf130d6d"
      },
      "execution_count": 38,
      "outputs": [
        {
          "output_type": "stream",
          "name": "stdout",
          "text": [
            "Fri Nov 11 15:32:47 2022       \n",
            "+-----------------------------------------------------------------------------+\n",
            "| NVIDIA-SMI 460.32.03    Driver Version: 460.32.03    CUDA Version: 11.2     |\n",
            "|-------------------------------+----------------------+----------------------+\n",
            "| GPU  Name        Persistence-M| Bus-Id        Disp.A | Volatile Uncorr. ECC |\n",
            "| Fan  Temp  Perf  Pwr:Usage/Cap|         Memory-Usage | GPU-Util  Compute M. |\n",
            "|                               |                      |               MIG M. |\n",
            "|===============================+======================+======================|\n",
            "|   0  A100-SXM4-40GB      Off  | 00000000:00:04.0 Off |                    0 |\n",
            "| N/A   29C    P0    50W / 400W |   9700MiB / 40536MiB |      0%      Default |\n",
            "|                               |                      |             Disabled |\n",
            "+-------------------------------+----------------------+----------------------+\n",
            "                                                                               \n",
            "+-----------------------------------------------------------------------------+\n",
            "| Processes:                                                                  |\n",
            "|  GPU   GI   CI        PID   Type   Process name                  GPU Memory |\n",
            "|        ID   ID                                                   Usage      |\n",
            "|=============================================================================|\n",
            "+-----------------------------------------------------------------------------+\n"
          ]
        }
      ]
    },
    {
      "cell_type": "code",
      "source": [
        "import tensorflow as tf\n",
        "tf.test.gpu_device_name()"
      ],
      "metadata": {
        "colab": {
          "base_uri": "https://localhost:8080/",
          "height": 35
        },
        "id": "5R91as7dtMla",
        "outputId": "32f015b9-a092-4b44-ae57-4a71bbf00edf"
      },
      "execution_count": 39,
      "outputs": [
        {
          "output_type": "execute_result",
          "data": {
            "text/plain": [
              "'/device:GPU:0'"
            ],
            "application/vnd.google.colaboratory.intrinsic+json": {
              "type": "string"
            }
          },
          "metadata": {},
          "execution_count": 39
        }
      ]
    },
    {
      "cell_type": "code",
      "execution_count": 15,
      "metadata": {
        "colab": {
          "base_uri": "https://localhost:8080/"
        },
        "id": "iJNF-TjZiBNH",
        "outputId": "3a18a47b-3074-4c49-d3bd-3ff93dd43f25"
      },
      "outputs": [
        {
          "output_type": "stream",
          "name": "stdout",
          "text": [
            "Drive already mounted at /content/drive; to attempt to forcibly remount, call drive.mount(\"/content/drive\", force_remount=True).\n"
          ]
        }
      ],
      "source": [
        "from google.colab import drive\n",
        "drive.mount('/content/drive')"
      ]
    },
    {
      "cell_type": "code",
      "source": [
        "!pip install MTCNN"
      ],
      "metadata": {
        "id": "0Dt0i0ZliB6R",
        "colab": {
          "base_uri": "https://localhost:8080/"
        },
        "outputId": "a9f0107c-0d5e-4ba1-aefb-974b848652f9"
      },
      "execution_count": 4,
      "outputs": [
        {
          "output_type": "stream",
          "name": "stdout",
          "text": [
            "Looking in indexes: https://pypi.org/simple, https://us-python.pkg.dev/colab-wheels/public/simple/\n",
            "Collecting MTCNN\n",
            "  Downloading mtcnn-0.1.1-py3-none-any.whl (2.3 MB)\n",
            "\u001b[K     |████████████████████████████████| 2.3 MB 14.3 MB/s \n",
            "\u001b[?25hRequirement already satisfied: opencv-python>=4.1.0 in /usr/local/lib/python3.7/dist-packages (from MTCNN) (4.6.0.66)\n",
            "Requirement already satisfied: keras>=2.0.0 in /usr/local/lib/python3.7/dist-packages (from MTCNN) (2.9.0)\n",
            "Requirement already satisfied: numpy>=1.14.5 in /usr/local/lib/python3.7/dist-packages (from opencv-python>=4.1.0->MTCNN) (1.21.6)\n",
            "Installing collected packages: MTCNN\n",
            "Successfully installed MTCNN-0.1.1\n"
          ]
        }
      ]
    },
    {
      "cell_type": "code",
      "source": [
        "# !unzip \"/content/drive/MyDrive/Research/Cropped_FER_2013.zip\""
      ],
      "metadata": {
        "id": "GyWrXd9ox4Ou"
      },
      "execution_count": 5,
      "outputs": []
    },
    {
      "cell_type": "code",
      "source": [
        "# !cp -r Cropped_FER_2013 \"/content/drive/MyDrive/Research/\""
      ],
      "metadata": {
        "id": "E0BIqTmsyV6p"
      },
      "execution_count": 6,
      "outputs": []
    },
    {
      "cell_type": "code",
      "source": [
        "pwd\n"
      ],
      "metadata": {
        "id": "6rhlgXvZiCba",
        "colab": {
          "base_uri": "https://localhost:8080/",
          "height": 35
        },
        "outputId": "1530dd55-78a4-455e-9d1b-dff695c0647e"
      },
      "execution_count": 7,
      "outputs": [
        {
          "output_type": "execute_result",
          "data": {
            "text/plain": [
              "'/content'"
            ],
            "application/vnd.google.colaboratory.intrinsic+json": {
              "type": "string"
            }
          },
          "metadata": {},
          "execution_count": 7
        }
      ]
    },
    {
      "cell_type": "code",
      "source": [
        "from mtcnn import MTCNN\n",
        "import cv2\n",
        "import os, glob\n",
        "import numpy as np\n",
        "# from tqdm import tqdm_notebook\n",
        "from tqdm.notebook import tqdm_notebook\n",
        "import shutil\n",
        "import matplotlib.pyplot as plt\n",
        "from matplotlib.pyplot import imshow\n",
        "import keras\n",
        "import numpy as np\n",
        "import tensorflow as tf\n",
        "from tensorflow import keras"
      ],
      "metadata": {
        "id": "C3PW3YTCiCmR"
      },
      "execution_count": 16,
      "outputs": []
    },
    {
      "cell_type": "code",
      "source": [
        "base_model = keras.applications.InceptionV3(\n",
        "    weights = 'imagenet',  # Load weights pre-trained on ImageNet.\n",
        "    input_shape = (229, 229, 3),\n",
        "    include_top = False,\n",
        "    classifier_activation = \"softmax\",\n",
        "    classes = 7\n",
        ") \n",
        "\n",
        "base_model.trainable = True\n",
        "\n",
        "# inputs = keras.Input(shape=(224, 224, 3))\n",
        "inputs = keras.Input(shape=(229, 229, 3))\n",
        "\n",
        "x = base_model(inputs, training=True)\n",
        "x = keras.layers.GlobalAveragePooling2D()(x)\n",
        "outputs = keras.layers.Dense(7, activation=\"softmax\")(x)\n",
        "\n",
        "model = keras.Model(inputs, outputs)"
      ],
      "metadata": {
        "id": "hFk0dj9yiCpI"
      },
      "execution_count": 40,
      "outputs": []
    },
    {
      "cell_type": "code",
      "source": [
        "path=\"/content/drive/MyDrive/Research/Cropped_FER_2013/train\"\n",
        "\n",
        "# dataset = keras.preprocessing.image_dataset_from_directory(path, image_size=(224, 224), label_mode=\"categorical\")\n",
        "train_dataset = keras.preprocessing.image_dataset_from_directory(path, image_size=(229, 229), label_mode=\"categorical\", validation_split=0.3, subset=\"training\", seed=42)\n",
        "valid_dataset = keras.preprocessing.image_dataset_from_directory(path, image_size=(229, 229), label_mode=\"categorical\", validation_split=0.3, subset=\"validation\", seed=42)\n",
        "\n"
      ],
      "metadata": {
        "id": "O3Pn8xkeiCrv",
        "colab": {
          "base_uri": "https://localhost:8080/"
        },
        "outputId": "ada4d468-2cc9-484d-df4c-20cfebea947f"
      },
      "execution_count": 41,
      "outputs": [
        {
          "output_type": "stream",
          "name": "stdout",
          "text": [
            "Found 23380 files belonging to 7 classes.\n",
            "Using 16366 files for training.\n",
            "Found 23380 files belonging to 7 classes.\n",
            "Using 7014 files for validation.\n"
          ]
        }
      ]
    },
    {
      "cell_type": "code",
      "source": [
        "model.compile(optimizer=keras.optimizers.Adam(),\n",
        "              loss=\"categorical_crossentropy\",\n",
        "              metrics=[\"accuracy\"])\n",
        "# model.fit(dataset, epochs=20, validation_split=0.2)\n",
        "history = model.fit(train_dataset, epochs=30, validation_data=valid_dataset)\n"
      ],
      "metadata": {
        "id": "NVJTAIKqiCuW",
        "colab": {
          "base_uri": "https://localhost:8080/"
        },
        "outputId": "77179f82-8bd4-41cd-9e47-607811b25fb2"
      },
      "execution_count": 42,
      "outputs": [
        {
          "output_type": "stream",
          "name": "stdout",
          "text": [
            "Epoch 1/30\n",
            "512/512 [==============================] - 52s 86ms/step - loss: 1.2719 - accuracy: 0.5227 - val_loss: 1.1312 - val_accuracy: 0.5714\n",
            "Epoch 2/30\n",
            "512/512 [==============================] - 42s 81ms/step - loss: 1.0706 - accuracy: 0.5989 - val_loss: 1.0543 - val_accuracy: 0.6039\n",
            "Epoch 3/30\n",
            "512/512 [==============================] - 41s 80ms/step - loss: 0.9688 - accuracy: 0.6401 - val_loss: 1.0689 - val_accuracy: 0.6078\n",
            "Epoch 4/30\n",
            "512/512 [==============================] - 41s 80ms/step - loss: 0.8960 - accuracy: 0.6685 - val_loss: 1.0583 - val_accuracy: 0.6138\n",
            "Epoch 5/30\n",
            "512/512 [==============================] - 42s 81ms/step - loss: 0.8135 - accuracy: 0.6949 - val_loss: 1.0692 - val_accuracy: 0.6229\n",
            "Epoch 6/30\n",
            "512/512 [==============================] - 41s 81ms/step - loss: 0.7221 - accuracy: 0.7317 - val_loss: 1.1451 - val_accuracy: 0.6046\n",
            "Epoch 7/30\n",
            "512/512 [==============================] - 41s 81ms/step - loss: 0.6251 - accuracy: 0.7647 - val_loss: 1.1654 - val_accuracy: 0.6116\n",
            "Epoch 8/30\n",
            "512/512 [==============================] - 42s 81ms/step - loss: 0.5164 - accuracy: 0.8089 - val_loss: 1.3112 - val_accuracy: 0.6146\n",
            "Epoch 9/30\n",
            "512/512 [==============================] - 41s 81ms/step - loss: 0.4218 - accuracy: 0.8470 - val_loss: 1.4173 - val_accuracy: 0.6276\n",
            "Epoch 10/30\n",
            "512/512 [==============================] - 41s 81ms/step - loss: 0.3385 - accuracy: 0.8793 - val_loss: 1.6702 - val_accuracy: 0.6119\n",
            "Epoch 11/30\n",
            "512/512 [==============================] - 41s 80ms/step - loss: 0.2747 - accuracy: 0.9036 - val_loss: 1.6517 - val_accuracy: 0.6162\n",
            "Epoch 12/30\n",
            "512/512 [==============================] - 41s 80ms/step - loss: 0.2235 - accuracy: 0.9219 - val_loss: 1.7066 - val_accuracy: 0.6248\n",
            "Epoch 13/30\n",
            "512/512 [==============================] - 41s 80ms/step - loss: 0.1947 - accuracy: 0.9305 - val_loss: 1.8228 - val_accuracy: 0.6239\n",
            "Epoch 14/30\n",
            "512/512 [==============================] - 41s 80ms/step - loss: 0.1661 - accuracy: 0.9421 - val_loss: 1.9080 - val_accuracy: 0.6267\n",
            "Epoch 15/30\n",
            "512/512 [==============================] - 41s 81ms/step - loss: 0.1453 - accuracy: 0.9493 - val_loss: 1.9483 - val_accuracy: 0.6242\n",
            "Epoch 16/30\n",
            "512/512 [==============================] - 41s 81ms/step - loss: 0.1304 - accuracy: 0.9544 - val_loss: 2.0605 - val_accuracy: 0.6255\n",
            "Epoch 17/30\n",
            "512/512 [==============================] - 42s 81ms/step - loss: 0.1278 - accuracy: 0.9577 - val_loss: 1.8953 - val_accuracy: 0.6350\n",
            "Epoch 18/30\n",
            "512/512 [==============================] - 41s 81ms/step - loss: 0.1109 - accuracy: 0.9624 - val_loss: 1.9899 - val_accuracy: 0.6329\n",
            "Epoch 19/30\n",
            "512/512 [==============================] - 41s 80ms/step - loss: 0.1018 - accuracy: 0.9654 - val_loss: 2.0924 - val_accuracy: 0.6319\n",
            "Epoch 20/30\n",
            "512/512 [==============================] - 41s 81ms/step - loss: 0.1092 - accuracy: 0.9628 - val_loss: 2.0869 - val_accuracy: 0.6265\n",
            "Epoch 21/30\n",
            "512/512 [==============================] - 41s 81ms/step - loss: 0.0865 - accuracy: 0.9701 - val_loss: 2.1112 - val_accuracy: 0.6393\n",
            "Epoch 22/30\n",
            "512/512 [==============================] - 41s 81ms/step - loss: 0.0989 - accuracy: 0.9666 - val_loss: 2.0944 - val_accuracy: 0.6379\n",
            "Epoch 23/30\n",
            "512/512 [==============================] - 41s 80ms/step - loss: 0.0919 - accuracy: 0.9704 - val_loss: 2.0572 - val_accuracy: 0.6383\n",
            "Epoch 24/30\n",
            "512/512 [==============================] - 41s 80ms/step - loss: 0.0741 - accuracy: 0.9746 - val_loss: 2.1862 - val_accuracy: 0.6366\n",
            "Epoch 25/30\n",
            "512/512 [==============================] - 41s 81ms/step - loss: 0.0771 - accuracy: 0.9732 - val_loss: 2.2717 - val_accuracy: 0.6373\n",
            "Epoch 26/30\n",
            "512/512 [==============================] - 41s 80ms/step - loss: 0.0806 - accuracy: 0.9732 - val_loss: 2.2066 - val_accuracy: 0.6384\n",
            "Epoch 27/30\n",
            "512/512 [==============================] - 41s 80ms/step - loss: 0.0803 - accuracy: 0.9724 - val_loss: 2.2447 - val_accuracy: 0.6326\n",
            "Epoch 28/30\n",
            "512/512 [==============================] - 41s 80ms/step - loss: 0.0570 - accuracy: 0.9800 - val_loss: 2.4441 - val_accuracy: 0.6319\n",
            "Epoch 29/30\n",
            "512/512 [==============================] - 41s 80ms/step - loss: 0.0693 - accuracy: 0.9759 - val_loss: 2.2845 - val_accuracy: 0.6356\n",
            "Epoch 30/30\n",
            "512/512 [==============================] - 41s 81ms/step - loss: 0.0777 - accuracy: 0.9743 - val_loss: 2.2297 - val_accuracy: 0.6322\n"
          ]
        }
      ]
    },
    {
      "cell_type": "code",
      "source": [
        "plt.plot(history.history['accuracy'])\n",
        "plt.plot(history.history['val_accuracy'])\n",
        "plt.title('InceptionV3_true model accuracy on FER2013')\n",
        "plt.ylabel('accuracy')\n",
        "plt.xlabel('epoch')\n",
        "plt.legend(['train', 'val'], loc='upper left')\n",
        "plt.savefig('InceptionV3_true_FER2013_model_accuracy.png')\n",
        "!cp InceptionV3_true_FER2013_model_accuracy.png \"/content/drive/MyDrive/Research/\"\n",
        "plt.show()\n"
      ],
      "metadata": {
        "id": "-rFxjSBJiCwu",
        "colab": {
          "base_uri": "https://localhost:8080/",
          "height": 295
        },
        "outputId": "130a4510-624a-4ebf-c87e-3b6ecd93905e"
      },
      "execution_count": 43,
      "outputs": [
        {
          "output_type": "display_data",
          "data": {
            "text/plain": [
              "<Figure size 432x288 with 1 Axes>"
            ],
            "image/png": "[encoded data removed]"
          },
          "metadata": {
            "needs_background": "light"
          }
        }
      ]
    },
    {
      "cell_type": "code",
      "source": [
        "plt.plot(history.history['loss'])\n",
        "plt.plot(history.history['val_loss'])\n",
        "plt.title('InceptionV3_true model loss on FER2013')\n",
        "plt.ylabel('loss')\n",
        "plt.xlabel('epoch')\n",
        "plt.legend(['train', 'val'], loc='upper left')\n",
        "plt.savefig('InceptionV3_true_FER2013_model_loss.png')\n",
        "!cp InceptionV3_true_FER2013_model_loss.png \"/content/drive/MyDrive/Research/\"\n",
        "plt.show()"
      ],
      "metadata": {
        "id": "wZYi1OCUiCzS",
        "colab": {
          "base_uri": "https://localhost:8080/",
          "height": 295
        },
        "outputId": "867ca7d9-4bad-48df-d49f-c18969d0eba3"
      },
      "execution_count": 44,
      "outputs": [
        {
          "output_type": "display_data",
          "data": {
            "text/plain": [
              "<Figure size 432x288 with 1 Axes>"
            ],
            "image/png": "[encoded data removed]"
          },
          "metadata": {
            "needs_background": "light"
          }
        }
      ]
    },
    {
      "cell_type": "code",
      "source": [
        "print(\"Training Accuracy \",max(history.history['accuracy']))\n",
        "print(\"Testing Accuracy\",max(history.history['val_accuracy']))\n"
      ],
      "metadata": {
        "id": "W2iTAO39iyHK",
        "colab": {
          "base_uri": "https://localhost:8080/"
        },
        "outputId": "04b8fd83-aec2-482d-fba8-bcb37da746fb"
      },
      "execution_count": 45,
      "outputs": [
        {
          "output_type": "stream",
          "name": "stdout",
          "text": [
            "Training Accuracy  0.9799584746360779\n",
            "Testing Accuracy 0.63929283618927\n"
          ]
        }
      ]
    },
    {
      "cell_type": "code",
      "source": [
        "#Save the Model \n",
        "model.save(\"InceptionV3_true_FER2013\")\n",
        "!cp -r InceptionV3_true_FER2013 \"/content/drive/MyDrive/Research/\"\n",
        "import tensorflow as tf\n",
        "\n",
        "# Convert the model\n",
        "converter = tf.lite.TFLiteConverter.from_saved_model(\"InceptionV3_true_FER2013\") # path to the SavedModel directory\n",
        "tflite_model = converter.convert()\n",
        "\n",
        "# Save the model in the .tflite .\n",
        "with open('InceptionV3_true_FER2013.tflite', 'wb') as f:\n",
        "  f.write(tflite_model)\n",
        "\n",
        "# copy the .tflite to Drive\n",
        "!cp InceptionV3_true_FER2013.tflite \"/content/drive/MyDrive/Research/\""
      ],
      "metadata": {
        "id": "krU4V1iNiC16",
        "colab": {
          "base_uri": "https://localhost:8080/"
        },
        "outputId": "338ee953-d697-42c4-c264-d0e11c611120"
      },
      "execution_count": null,
      "outputs": [
        {
          "output_type": "stream",
          "name": "stderr",
          "text": [
            "WARNING:absl:Found untraced functions such as _jit_compiled_convolution_op, _jit_compiled_convolution_op, _jit_compiled_convolution_op, _jit_compiled_convolution_op, _jit_compiled_convolution_op while saving (showing 5 of 94). These functions will not be directly callable after loading.\n"
          ]
        }
      ]
    },
    {
      "cell_type": "code",
      "source": [],
      "metadata": {
        "id": "00THtT_riC4Q"
      },
      "execution_count": null,
      "outputs": []
    }
  ]
}