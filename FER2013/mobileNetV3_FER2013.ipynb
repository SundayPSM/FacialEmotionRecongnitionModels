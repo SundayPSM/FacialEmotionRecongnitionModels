{
  "nbformat": 4,
  "nbformat_minor": 0,
  "metadata": {
    "colab": {
      "provenance": [],
      "collapsed_sections": [],
      "machine_shape": "hm"
    },
    "kernelspec": {
      "name": "python3",
      "display_name": "Python 3"
    },
    "language_info": {
      "name": "python"
    },
    "accelerator": "GPU",
    "gpuClass": "premium"
  },
  "cells": [
    {
      "cell_type": "code",
      "source": [
        "gpu_info = !nvidia-smi\n",
        "gpu_info = '\\n'.join(gpu_info)\n",
        "if gpu_info.find('failed') >= 0:\n",
        "  print('Not connected to a GPU')\n",
        "else:\n",
        "  print(gpu_info)"
      ],
      "metadata": {
        "colab": {
          "base_uri": "https://localhost:8080/"
        },
        "id": "o6b8jUdys0Up",
        "outputId": "e36d6529-c634-487b-e6e7-5f5c2090d933"
      },
      "execution_count": 13,
      "outputs": [
        {
          "output_type": "stream",
          "name": "stdout",
          "text": [
            "Fri Nov 11 14:17:30 2022       \n",
            "+-----------------------------------------------------------------------------+\n",
            "| NVIDIA-SMI 460.32.03    Driver Version: 460.32.03    CUDA Version: 11.2     |\n",
            "|-------------------------------+----------------------+----------------------+\n",
            "| GPU  Name        Persistence-M| Bus-Id        Disp.A | Volatile Uncorr. ECC |\n",
            "| Fan  Temp  Perf  Pwr:Usage/Cap|         Memory-Usage | GPU-Util  Compute M. |\n",
            "|                               |                      |               MIG M. |\n",
            "|===============================+======================+======================|\n",
            "|   0  A100-SXM4-40GB      Off  | 00000000:00:04.0 Off |                    0 |\n",
            "| N/A   29C    P0    50W / 400W |   3472MiB / 40536MiB |      0%      Default |\n",
            "|                               |                      |             Disabled |\n",
            "+-------------------------------+----------------------+----------------------+\n",
            "                                                                               \n",
            "+-----------------------------------------------------------------------------+\n",
            "| Processes:                                                                  |\n",
            "|  GPU   GI   CI        PID   Type   Process name                  GPU Memory |\n",
            "|        ID   ID                                                   Usage      |\n",
            "|=============================================================================|\n",
            "+-----------------------------------------------------------------------------+\n"
          ]
        }
      ]
    },
    {
      "cell_type": "code",
      "source": [
        "import tensorflow as tf\n",
        "tf.test.gpu_device_name()"
      ],
      "metadata": {
        "colab": {
          "base_uri": "https://localhost:8080/",
          "height": 35
        },
        "id": "5R91as7dtMla",
        "outputId": "358ef427-14bc-4e94-c689-9731186d2aae"
      },
      "execution_count": 14,
      "outputs": [
        {
          "output_type": "execute_result",
          "data": {
            "text/plain": [
              "'/device:GPU:0'"
            ],
            "application/vnd.google.colaboratory.intrinsic+json": {
              "type": "string"
            }
          },
          "metadata": {},
          "execution_count": 14
        }
      ]
    },
    {
      "cell_type": "code",
      "execution_count": 15,
      "metadata": {
        "colab": {
          "base_uri": "https://localhost:8080/"
        },
        "id": "iJNF-TjZiBNH",
        "outputId": "3a18a47b-3074-4c49-d3bd-3ff93dd43f25"
      },
      "outputs": [
        {
          "output_type": "stream",
          "name": "stdout",
          "text": [
            "Drive already mounted at /content/drive; to attempt to forcibly remount, call drive.mount(\"/content/drive\", force_remount=True).\n"
          ]
        }
      ],
      "source": [
        "from google.colab import drive\n",
        "drive.mount('/content/drive')"
      ]
    },
    {
      "cell_type": "code",
      "source": [
        "!pip install MTCNN"
      ],
      "metadata": {
        "id": "0Dt0i0ZliB6R",
        "colab": {
          "base_uri": "https://localhost:8080/"
        },
        "outputId": "a9f0107c-0d5e-4ba1-aefb-974b848652f9"
      },
      "execution_count": 4,
      "outputs": [
        {
          "output_type": "stream",
          "name": "stdout",
          "text": [
            "Looking in indexes: https://pypi.org/simple, https://us-python.pkg.dev/colab-wheels/public/simple/\n",
            "Collecting MTCNN\n",
            "  Downloading mtcnn-0.1.1-py3-none-any.whl (2.3 MB)\n",
            "\u001b[K     |████████████████████████████████| 2.3 MB 14.3 MB/s \n",
            "\u001b[?25hRequirement already satisfied: opencv-python>=4.1.0 in /usr/local/lib/python3.7/dist-packages (from MTCNN) (4.6.0.66)\n",
            "Requirement already satisfied: keras>=2.0.0 in /usr/local/lib/python3.7/dist-packages (from MTCNN) (2.9.0)\n",
            "Requirement already satisfied: numpy>=1.14.5 in /usr/local/lib/python3.7/dist-packages (from opencv-python>=4.1.0->MTCNN) (1.21.6)\n",
            "Installing collected packages: MTCNN\n",
            "Successfully installed MTCNN-0.1.1\n"
          ]
        }
      ]
    },
    {
      "cell_type": "code",
      "source": [
        "# !unzip \"/content/drive/MyDrive/Research/Cropped_FER_2013.zip\""
      ],
      "metadata": {
        "id": "GyWrXd9ox4Ou"
      },
      "execution_count": 5,
      "outputs": []
    },
    {
      "cell_type": "code",
      "source": [
        "# !cp -r Cropped_FER_2013 \"/content/drive/MyDrive/Research/\""
      ],
      "metadata": {
        "id": "E0BIqTmsyV6p"
      },
      "execution_count": 6,
      "outputs": []
    },
    {
      "cell_type": "code",
      "source": [
        "pwd\n"
      ],
      "metadata": {
        "id": "6rhlgXvZiCba",
        "colab": {
          "base_uri": "https://localhost:8080/",
          "height": 35
        },
        "outputId": "1530dd55-78a4-455e-9d1b-dff695c0647e"
      },
      "execution_count": 7,
      "outputs": [
        {
          "output_type": "execute_result",
          "data": {
            "text/plain": [
              "'/content'"
            ],
            "application/vnd.google.colaboratory.intrinsic+json": {
              "type": "string"
            }
          },
          "metadata": {},
          "execution_count": 7
        }
      ]
    },
    {
      "cell_type": "code",
      "source": [
        "from mtcnn import MTCNN\n",
        "import cv2\n",
        "import os, glob\n",
        "import numpy as np\n",
        "# from tqdm import tqdm_notebook\n",
        "from tqdm.notebook import tqdm_notebook\n",
        "import shutil\n",
        "import matplotlib.pyplot as plt\n",
        "from matplotlib.pyplot import imshow\n",
        "import keras\n",
        "import numpy as np\n",
        "import tensorflow as tf\n",
        "from tensorflow import keras"
      ],
      "metadata": {
        "id": "C3PW3YTCiCmR"
      },
      "execution_count": 16,
      "outputs": []
    },
    {
      "cell_type": "code",
      "source": [
        "base_model = keras.applications.MobileNetV3Large(\n",
        "    weights = 'imagenet',  # Load weights pre-trained on ImageNet.\n",
        "    input_shape = (224, 224, 3),\n",
        "    include_top = False,\n",
        "    classifier_activation = \"softmax\",\n",
        "    classes = 7\n",
        ") \n",
        "\n",
        "base_model.trainable = False\n",
        "\n",
        "# inputs = keras.Input(shape=(224, 224, 3))\n",
        "inputs = keras.Input(shape=(224, 224, 3))\n",
        "\n",
        "x = base_model(inputs, training=False)\n",
        "x = keras.layers.GlobalAveragePooling2D()(x)\n",
        "outputs = keras.layers.Dense(7, activation=\"softmax\")(x)\n",
        "\n",
        "model = keras.Model(inputs, outputs)"
      ],
      "metadata": {
        "id": "hFk0dj9yiCpI"
      },
      "execution_count": 17,
      "outputs": []
    },
    {
      "cell_type": "code",
      "source": [
        "path=\"/content/drive/MyDrive/Research/Cropped_FER_2013/train\"\n",
        "\n",
        "# dataset = keras.preprocessing.image_dataset_from_directory(path, image_size=(224, 224), label_mode=\"categorical\")\n",
        "train_dataset = keras.preprocessing.image_dataset_from_directory(path, image_size=(224, 224), label_mode=\"categorical\", validation_split=0.3, subset=\"training\", seed=42)\n",
        "valid_dataset = keras.preprocessing.image_dataset_from_directory(path, image_size=(224, 224), label_mode=\"categorical\", validation_split=0.3, subset=\"validation\", seed=42)\n",
        "\n"
      ],
      "metadata": {
        "id": "O3Pn8xkeiCrv",
        "colab": {
          "base_uri": "https://localhost:8080/"
        },
        "outputId": "cc743d52-5be3-46c2-fe27-6cc2a695223d"
      },
      "execution_count": 18,
      "outputs": [
        {
          "output_type": "stream",
          "name": "stdout",
          "text": [
            "Found 23380 files belonging to 7 classes.\n",
            "Using 16366 files for training.\n",
            "Found 23380 files belonging to 7 classes.\n",
            "Using 7014 files for validation.\n"
          ]
        }
      ]
    },
    {
      "cell_type": "code",
      "source": [
        "model.compile(optimizer=keras.optimizers.Adam(),\n",
        "              loss=\"categorical_crossentropy\",\n",
        "              metrics=[\"accuracy\"])\n",
        "# model.fit(dataset, epochs=20, validation_split=0.2)\n",
        "history = model.fit(train_dataset, epochs=30, validation_data=valid_dataset)\n"
      ],
      "metadata": {
        "id": "NVJTAIKqiCuW",
        "colab": {
          "base_uri": "https://localhost:8080/"
        },
        "outputId": "b5ae76cb-f53d-434c-95d4-6bec984a87d4"
      },
      "execution_count": 19,
      "outputs": [
        {
          "output_type": "stream",
          "name": "stdout",
          "text": [
            "Epoch 1/30\n",
            "512/512 [==============================] - 21s 34ms/step - loss: 1.5044 - accuracy: 0.4325 - val_loss: 1.3684 - val_accuracy: 0.4914\n",
            "Epoch 2/30\n",
            "512/512 [==============================] - 15s 29ms/step - loss: 1.3149 - accuracy: 0.5106 - val_loss: 1.2966 - val_accuracy: 0.5182\n",
            "Epoch 3/30\n",
            "512/512 [==============================] - 15s 29ms/step - loss: 1.2512 - accuracy: 0.5339 - val_loss: 1.2856 - val_accuracy: 0.5210\n",
            "Epoch 4/30\n",
            "512/512 [==============================] - 15s 29ms/step - loss: 1.2095 - accuracy: 0.5485 - val_loss: 1.2722 - val_accuracy: 0.5250\n",
            "Epoch 5/30\n",
            "512/512 [==============================] - 15s 29ms/step - loss: 1.1831 - accuracy: 0.5601 - val_loss: 1.2568 - val_accuracy: 0.5291\n",
            "Epoch 6/30\n",
            "512/512 [==============================] - 15s 29ms/step - loss: 1.1623 - accuracy: 0.5651 - val_loss: 1.2556 - val_accuracy: 0.5279\n",
            "Epoch 7/30\n",
            "512/512 [==============================] - 15s 30ms/step - loss: 1.1459 - accuracy: 0.5731 - val_loss: 1.2547 - val_accuracy: 0.5311\n",
            "Epoch 8/30\n",
            "512/512 [==============================] - 15s 29ms/step - loss: 1.1318 - accuracy: 0.5803 - val_loss: 1.2450 - val_accuracy: 0.5361\n",
            "Epoch 9/30\n",
            "512/512 [==============================] - 15s 29ms/step - loss: 1.1209 - accuracy: 0.5834 - val_loss: 1.2415 - val_accuracy: 0.5352\n",
            "Epoch 10/30\n",
            "512/512 [==============================] - 15s 29ms/step - loss: 1.1107 - accuracy: 0.5871 - val_loss: 1.2646 - val_accuracy: 0.5274\n",
            "Epoch 11/30\n",
            "512/512 [==============================] - 15s 29ms/step - loss: 1.1021 - accuracy: 0.5888 - val_loss: 1.2553 - val_accuracy: 0.5319\n",
            "Epoch 12/30\n",
            "512/512 [==============================] - 15s 29ms/step - loss: 1.0932 - accuracy: 0.5943 - val_loss: 1.2555 - val_accuracy: 0.5362\n",
            "Epoch 13/30\n",
            "512/512 [==============================] - 15s 29ms/step - loss: 1.0899 - accuracy: 0.5924 - val_loss: 1.2540 - val_accuracy: 0.5322\n",
            "Epoch 14/30\n",
            "512/512 [==============================] - 15s 29ms/step - loss: 1.0805 - accuracy: 0.5962 - val_loss: 1.2579 - val_accuracy: 0.5325\n",
            "Epoch 15/30\n",
            "512/512 [==============================] - 15s 29ms/step - loss: 1.0756 - accuracy: 0.6038 - val_loss: 1.2511 - val_accuracy: 0.5425\n",
            "Epoch 16/30\n",
            "512/512 [==============================] - 15s 29ms/step - loss: 1.0713 - accuracy: 0.6019 - val_loss: 1.2629 - val_accuracy: 0.5378\n",
            "Epoch 17/30\n",
            "512/512 [==============================] - 15s 29ms/step - loss: 1.0651 - accuracy: 0.6050 - val_loss: 1.2828 - val_accuracy: 0.5257\n",
            "Epoch 18/30\n",
            "512/512 [==============================] - 15s 29ms/step - loss: 1.0652 - accuracy: 0.6040 - val_loss: 1.2618 - val_accuracy: 0.5381\n",
            "Epoch 19/30\n",
            "512/512 [==============================] - 15s 29ms/step - loss: 1.0598 - accuracy: 0.6076 - val_loss: 1.2659 - val_accuracy: 0.5391\n",
            "Epoch 20/30\n",
            "512/512 [==============================] - 15s 29ms/step - loss: 1.0565 - accuracy: 0.6093 - val_loss: 1.2981 - val_accuracy: 0.5254\n",
            "Epoch 21/30\n",
            "512/512 [==============================] - 15s 29ms/step - loss: 1.0557 - accuracy: 0.6063 - val_loss: 1.2763 - val_accuracy: 0.5346\n",
            "Epoch 22/30\n",
            "512/512 [==============================] - 15s 29ms/step - loss: 1.0543 - accuracy: 0.6059 - val_loss: 1.2742 - val_accuracy: 0.5355\n",
            "Epoch 23/30\n",
            "512/512 [==============================] - 15s 29ms/step - loss: 1.0505 - accuracy: 0.6110 - val_loss: 1.2822 - val_accuracy: 0.5318\n",
            "Epoch 24/30\n",
            "512/512 [==============================] - 15s 29ms/step - loss: 1.0472 - accuracy: 0.6090 - val_loss: 1.2758 - val_accuracy: 0.5389\n",
            "Epoch 25/30\n",
            "512/512 [==============================] - 15s 29ms/step - loss: 1.0442 - accuracy: 0.6122 - val_loss: 1.2883 - val_accuracy: 0.5329\n",
            "Epoch 26/30\n",
            "512/512 [==============================] - 15s 29ms/step - loss: 1.0447 - accuracy: 0.6120 - val_loss: 1.2997 - val_accuracy: 0.5336\n",
            "Epoch 27/30\n",
            "512/512 [==============================] - 15s 29ms/step - loss: 1.0402 - accuracy: 0.6116 - val_loss: 1.3085 - val_accuracy: 0.5261\n",
            "Epoch 28/30\n",
            "512/512 [==============================] - 15s 29ms/step - loss: 1.0378 - accuracy: 0.6146 - val_loss: 1.2890 - val_accuracy: 0.5372\n",
            "Epoch 29/30\n",
            "512/512 [==============================] - 15s 29ms/step - loss: 1.0367 - accuracy: 0.6188 - val_loss: 1.2906 - val_accuracy: 0.5378\n",
            "Epoch 30/30\n",
            "512/512 [==============================] - 15s 29ms/step - loss: 1.0363 - accuracy: 0.6166 - val_loss: 1.3258 - val_accuracy: 0.5251\n"
          ]
        }
      ]
    },
    {
      "cell_type": "code",
      "source": [
        "plt.plot(history.history['accuracy'])\n",
        "plt.plot(history.history['val_accuracy'])\n",
        "plt.title('MobileNetV3Large model accuracy on FER2013')\n",
        "plt.ylabel('accuracy')\n",
        "plt.xlabel('epoch')\n",
        "plt.legend(['train', 'val'], loc='upper left')\n",
        "plt.savefig('MobileNetV3Large_FER2013_model_accuracy.png')\n",
        "!cp MobileNetV3Large_FER2013_model_accuracy.png \"/content/drive/MyDrive/Research/\"\n",
        "plt.show()\n"
      ],
      "metadata": {
        "id": "-rFxjSBJiCwu",
        "colab": {
          "base_uri": "https://localhost:8080/",
          "height": 295
        },
        "outputId": "5993a6d1-7523-4a00-d4c2-124572f63e26"
      },
      "execution_count": 20,
      "outputs": [
        {
          "output_type": "display_data",
          "data": {
            "text/plain": [
              "<Figure size 432x288 with 1 Axes>"
            ],
            "image/png": "[encoded data removed]"
          },
          "metadata": {
            "needs_background": "light"
          }
        }
      ]
    },
    {
      "cell_type": "code",
      "source": [
        "plt.plot(history.history['loss'])\n",
        "plt.plot(history.history['val_loss'])\n",
        "plt.title('MobileNetV3Large model loss on FER2013')\n",
        "plt.ylabel('loss')\n",
        "plt.xlabel('epoch')\n",
        "plt.legend(['train', 'val'], loc='upper left')\n",
        "plt.savefig('MobileNetV3Large_FER2013_model_loss.png')\n",
        "!cp MobileNetV3Large_FER2013_model_loss.png \"/content/drive/MyDrive/Research/\"\n",
        "plt.show()"
      ],
      "metadata": {
        "id": "wZYi1OCUiCzS",
        "colab": {
          "base_uri": "https://localhost:8080/",
          "height": 295
        },
        "outputId": "1ca018a0-1373-459c-f7d6-650a4626941a"
      },
      "execution_count": 21,
      "outputs": [
        {
          "output_type": "display_data",
          "data": {
            "text/plain": [
              "<Figure size 432x288 with 1 Axes>"
            ],
            "image/png": "[encoded data removed]"
          },
          "metadata": {
            "needs_background": "light"
          }
        }
      ]
    },
    {
      "cell_type": "code",
      "source": [
        "print(\"Training Accuracy \",max(history.history['accuracy']))\n",
        "print(\"Testing Accuracy\",max(history.history['val_accuracy']))\n"
      ],
      "metadata": {
        "id": "W2iTAO39iyHK",
        "colab": {
          "base_uri": "https://localhost:8080/"
        },
        "outputId": "47a8407b-5156-4e87-ec18-17cb34249abf"
      },
      "execution_count": 22,
      "outputs": [
        {
          "output_type": "stream",
          "name": "stdout",
          "text": [
            "Training Accuracy  0.6187828183174133\n",
            "Testing Accuracy 0.5424864292144775\n"
          ]
        }
      ]
    },
    {
      "cell_type": "code",
      "source": [
        "#Save the Model \n",
        "model.save(\"MobileNetV3Large_FER2013\")\n",
        "!cp -r MobileNetV3Large_FER2013 \"/content/drive/MyDrive/Research/\"\n",
        "import tensorflow as tf\n",
        "\n",
        "# Convert the model\n",
        "converter = tf.lite.TFLiteConverter.from_saved_model(\"MobileNetV3Large_FER2013\") # path to the SavedModel directory\n",
        "tflite_model = converter.convert()\n",
        "\n",
        "# Save the model in the .tflite .\n",
        "with open('MobileNetV3Large_FER2013.tflite', 'wb') as f:\n",
        "  f.write(tflite_model)\n",
        "\n",
        "# copy the .tflite to Drive\n",
        "!cp MobileNetV3Large_FER2013.tflite \"/content/drive/MyDrive/Research/\""
      ],
      "metadata": {
        "id": "krU4V1iNiC16",
        "colab": {
          "base_uri": "https://localhost:8080/"
        },
        "outputId": "c7643174-5eb1-40a2-816f-a4b6a3654d2b"
      },
      "execution_count": 23,
      "outputs": [
        {
          "output_type": "stream",
          "name": "stderr",
          "text": [
            "WARNING:absl:Found untraced functions such as _jit_compiled_convolution_op, _jit_compiled_convolution_op, _jit_compiled_convolution_op, _jit_compiled_convolution_op, _jit_compiled_convolution_op while saving (showing 5 of 62). These functions will not be directly callable after loading.\n"
          ]
        }
      ]
    },
    {
      "cell_type": "code",
      "source": [],
      "metadata": {
        "id": "00THtT_riC4Q"
      },
      "execution_count": null,
      "outputs": []
    }
  ]
}