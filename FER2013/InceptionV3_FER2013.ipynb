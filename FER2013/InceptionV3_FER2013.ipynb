{
  "nbformat": 4,
  "nbformat_minor": 0,
  "metadata": {
    "colab": {
      "provenance": [],
      "collapsed_sections": [],
      "machine_shape": "hm"
    },
    "kernelspec": {
      "name": "python3",
      "display_name": "Python 3"
    },
    "language_info": {
      "name": "python"
    },
    "accelerator": "GPU",
    "gpuClass": "premium"
  },
  "cells": [
    {
      "cell_type": "code",
      "source": [
        "gpu_info = !nvidia-smi\n",
        "gpu_info = '\\n'.join(gpu_info)\n",
        "if gpu_info.find('failed') >= 0:\n",
        "  print('Not connected to a GPU')\n",
        "else:\n",
        "  print(gpu_info)"
      ],
      "metadata": {
        "colab": {
          "base_uri": "https://localhost:8080/"
        },
        "id": "o6b8jUdys0Up",
        "outputId": "e36d6529-c634-487b-e6e7-5f5c2090d933"
      },
      "execution_count": 13,
      "outputs": [
        {
          "output_type": "stream",
          "name": "stdout",
          "text": [
            "Fri Nov 11 14:17:30 2022       \n",
            "+-----------------------------------------------------------------------------+\n",
            "| NVIDIA-SMI 460.32.03    Driver Version: 460.32.03    CUDA Version: 11.2     |\n",
            "|-------------------------------+----------------------+----------------------+\n",
            "| GPU  Name        Persistence-M| Bus-Id        Disp.A | Volatile Uncorr. ECC |\n",
            "| Fan  Temp  Perf  Pwr:Usage/Cap|         Memory-Usage | GPU-Util  Compute M. |\n",
            "|                               |                      |               MIG M. |\n",
            "|===============================+======================+======================|\n",
            "|   0  A100-SXM4-40GB      Off  | 00000000:00:04.0 Off |                    0 |\n",
            "| N/A   29C    P0    50W / 400W |   3472MiB / 40536MiB |      0%      Default |\n",
            "|                               |                      |             Disabled |\n",
            "+-------------------------------+----------------------+----------------------+\n",
            "                                                                               \n",
            "+-----------------------------------------------------------------------------+\n",
            "| Processes:                                                                  |\n",
            "|  GPU   GI   CI        PID   Type   Process name                  GPU Memory |\n",
            "|        ID   ID                                                   Usage      |\n",
            "|=============================================================================|\n",
            "+-----------------------------------------------------------------------------+\n"
          ]
        }
      ]
    },
    {
      "cell_type": "code",
      "source": [
        "import tensorflow as tf\n",
        "tf.test.gpu_device_name()"
      ],
      "metadata": {
        "colab": {
          "base_uri": "https://localhost:8080/",
          "height": 35
        },
        "id": "5R91as7dtMla",
        "outputId": "358ef427-14bc-4e94-c689-9731186d2aae"
      },
      "execution_count": 14,
      "outputs": [
        {
          "output_type": "execute_result",
          "data": {
            "text/plain": [
              "'/device:GPU:0'"
            ],
            "application/vnd.google.colaboratory.intrinsic+json": {
              "type": "string"
            }
          },
          "metadata": {},
          "execution_count": 14
        }
      ]
    },
    {
      "cell_type": "code",
      "execution_count": 15,
      "metadata": {
        "colab": {
          "base_uri": "https://localhost:8080/"
        },
        "id": "iJNF-TjZiBNH",
        "outputId": "3a18a47b-3074-4c49-d3bd-3ff93dd43f25"
      },
      "outputs": [
        {
          "output_type": "stream",
          "name": "stdout",
          "text": [
            "Drive already mounted at /content/drive; to attempt to forcibly remount, call drive.mount(\"/content/drive\", force_remount=True).\n"
          ]
        }
      ],
      "source": [
        "from google.colab import drive\n",
        "drive.mount('/content/drive')"
      ]
    },
    {
      "cell_type": "code",
      "source": [
        "!pip install MTCNN"
      ],
      "metadata": {
        "id": "0Dt0i0ZliB6R",
        "colab": {
          "base_uri": "https://localhost:8080/"
        },
        "outputId": "a9f0107c-0d5e-4ba1-aefb-974b848652f9"
      },
      "execution_count": 4,
      "outputs": [
        {
          "output_type": "stream",
          "name": "stdout",
          "text": [
            "Looking in indexes: https://pypi.org/simple, https://us-python.pkg.dev/colab-wheels/public/simple/\n",
            "Collecting MTCNN\n",
            "  Downloading mtcnn-0.1.1-py3-none-any.whl (2.3 MB)\n",
            "\u001b[K     |████████████████████████████████| 2.3 MB 14.3 MB/s \n",
            "\u001b[?25hRequirement already satisfied: opencv-python>=4.1.0 in /usr/local/lib/python3.7/dist-packages (from MTCNN) (4.6.0.66)\n",
            "Requirement already satisfied: keras>=2.0.0 in /usr/local/lib/python3.7/dist-packages (from MTCNN) (2.9.0)\n",
            "Requirement already satisfied: numpy>=1.14.5 in /usr/local/lib/python3.7/dist-packages (from opencv-python>=4.1.0->MTCNN) (1.21.6)\n",
            "Installing collected packages: MTCNN\n",
            "Successfully installed MTCNN-0.1.1\n"
          ]
        }
      ]
    },
    {
      "cell_type": "code",
      "source": [
        "# !unzip \"/content/drive/MyDrive/Research/Cropped_FER_2013.zip\""
      ],
      "metadata": {
        "id": "GyWrXd9ox4Ou"
      },
      "execution_count": 5,
      "outputs": []
    },
    {
      "cell_type": "code",
      "source": [
        "# !cp -r Cropped_FER_2013 \"/content/drive/MyDrive/Research/\""
      ],
      "metadata": {
        "id": "E0BIqTmsyV6p"
      },
      "execution_count": 6,
      "outputs": []
    },
    {
      "cell_type": "code",
      "source": [
        "pwd\n"
      ],
      "metadata": {
        "id": "6rhlgXvZiCba",
        "colab": {
          "base_uri": "https://localhost:8080/",
          "height": 35
        },
        "outputId": "1530dd55-78a4-455e-9d1b-dff695c0647e"
      },
      "execution_count": 7,
      "outputs": [
        {
          "output_type": "execute_result",
          "data": {
            "text/plain": [
              "'/content'"
            ],
            "application/vnd.google.colaboratory.intrinsic+json": {
              "type": "string"
            }
          },
          "metadata": {},
          "execution_count": 7
        }
      ]
    },
    {
      "cell_type": "code",
      "source": [
        "from mtcnn import MTCNN\n",
        "import cv2\n",
        "import os, glob\n",
        "import numpy as np\n",
        "# from tqdm import tqdm_notebook\n",
        "from tqdm.notebook import tqdm_notebook\n",
        "import shutil\n",
        "import matplotlib.pyplot as plt\n",
        "from matplotlib.pyplot import imshow\n",
        "import keras\n",
        "import numpy as np\n",
        "import tensorflow as tf\n",
        "from tensorflow import keras"
      ],
      "metadata": {
        "id": "C3PW3YTCiCmR"
      },
      "execution_count": 16,
      "outputs": []
    },
    {
      "cell_type": "code",
      "source": [
        "base_model = keras.applications.InceptionV3(\n",
        "    weights = 'imagenet',  # Load weights pre-trained on ImageNet.\n",
        "    input_shape = (229, 229, 3),\n",
        "    include_top = False,\n",
        "    classifier_activation = \"softmax\",\n",
        "    classes = 7\n",
        ") \n",
        "\n",
        "base_model.trainable = False\n",
        "\n",
        "# inputs = keras.Input(shape=(224, 224, 3))\n",
        "inputs = keras.Input(shape=(229, 229, 3))\n",
        "\n",
        "x = base_model(inputs, training=False)\n",
        "x = keras.layers.GlobalAveragePooling2D()(x)\n",
        "outputs = keras.layers.Dense(7, activation=\"softmax\")(x)\n",
        "\n",
        "model = keras.Model(inputs, outputs)"
      ],
      "metadata": {
        "id": "hFk0dj9yiCpI",
        "colab": {
          "base_uri": "https://localhost:8080/"
        },
        "outputId": "dcbaa583-5bee-49a6-aaaa-5bdf06bb1e10"
      },
      "execution_count": 31,
      "outputs": [
        {
          "output_type": "stream",
          "name": "stdout",
          "text": [
            "Downloading data from https://storage.googleapis.com/tensorflow/keras-applications/inception_v3/inception_v3_weights_tf_dim_ordering_tf_kernels_notop.h5\n",
            "87910968/87910968 [==============================] - 3s 0us/step\n"
          ]
        }
      ]
    },
    {
      "cell_type": "code",
      "source": [
        "path=\"/content/drive/MyDrive/Research/Cropped_FER_2013/train\"\n",
        "\n",
        "# dataset = keras.preprocessing.image_dataset_from_directory(path, image_size=(224, 224), label_mode=\"categorical\")\n",
        "train_dataset = keras.preprocessing.image_dataset_from_directory(path, image_size=(229, 229), label_mode=\"categorical\", validation_split=0.3, subset=\"training\", seed=42)\n",
        "valid_dataset = keras.preprocessing.image_dataset_from_directory(path, image_size=(229, 229), label_mode=\"categorical\", validation_split=0.3, subset=\"validation\", seed=42)\n",
        "\n"
      ],
      "metadata": {
        "id": "O3Pn8xkeiCrv",
        "colab": {
          "base_uri": "https://localhost:8080/"
        },
        "outputId": "cb6d9c27-8596-4e76-a2b1-58f50c6b887a"
      },
      "execution_count": 32,
      "outputs": [
        {
          "output_type": "stream",
          "name": "stdout",
          "text": [
            "Found 23380 files belonging to 7 classes.\n",
            "Using 16366 files for training.\n",
            "Found 23380 files belonging to 7 classes.\n",
            "Using 7014 files for validation.\n"
          ]
        }
      ]
    },
    {
      "cell_type": "code",
      "source": [
        "model.compile(optimizer=keras.optimizers.Adam(),\n",
        "              loss=\"categorical_crossentropy\",\n",
        "              metrics=[\"accuracy\"])\n",
        "# model.fit(dataset, epochs=20, validation_split=0.2)\n",
        "history = model.fit(train_dataset, epochs=30, validation_data=valid_dataset)\n"
      ],
      "metadata": {
        "id": "NVJTAIKqiCuW",
        "colab": {
          "base_uri": "https://localhost:8080/"
        },
        "outputId": "372853e1-237d-4010-be00-334afde4229c"
      },
      "execution_count": 33,
      "outputs": [
        {
          "output_type": "stream",
          "name": "stdout",
          "text": [
            "Epoch 1/30\n",
            "512/512 [==============================] - 28s 43ms/step - loss: 5.8190 - accuracy: 0.2431 - val_loss: 4.9440 - val_accuracy: 0.2907\n",
            "Epoch 2/30\n",
            "512/512 [==============================] - 20s 38ms/step - loss: 4.0983 - accuracy: 0.2732 - val_loss: 4.7118 - val_accuracy: 0.2318\n",
            "Epoch 3/30\n",
            "512/512 [==============================] - 19s 37ms/step - loss: 3.8203 - accuracy: 0.2879 - val_loss: 3.5415 - val_accuracy: 0.3095\n",
            "Epoch 4/30\n",
            "512/512 [==============================] - 19s 38ms/step - loss: 3.5567 - accuracy: 0.3028 - val_loss: 3.6373 - val_accuracy: 0.3259\n",
            "Epoch 5/30\n",
            "512/512 [==============================] - 19s 37ms/step - loss: 3.5422 - accuracy: 0.3127 - val_loss: 3.4077 - val_accuracy: 0.3442\n",
            "Epoch 6/30\n",
            "512/512 [==============================] - 19s 37ms/step - loss: 3.3410 - accuracy: 0.3163 - val_loss: 3.5886 - val_accuracy: 0.2218\n",
            "Epoch 7/30\n",
            "512/512 [==============================] - 19s 37ms/step - loss: 3.4131 - accuracy: 0.3199 - val_loss: 3.9972 - val_accuracy: 0.2837\n",
            "Epoch 8/30\n",
            "512/512 [==============================] - 19s 37ms/step - loss: 3.2114 - accuracy: 0.3267 - val_loss: 3.6571 - val_accuracy: 0.3084\n",
            "Epoch 9/30\n",
            "512/512 [==============================] - 19s 37ms/step - loss: 3.1223 - accuracy: 0.3366 - val_loss: 3.9227 - val_accuracy: 0.2186\n",
            "Epoch 10/30\n",
            "512/512 [==============================] - 19s 37ms/step - loss: 2.9721 - accuracy: 0.3384 - val_loss: 5.8551 - val_accuracy: 0.1950\n",
            "Epoch 11/30\n",
            "512/512 [==============================] - 19s 37ms/step - loss: 2.8877 - accuracy: 0.3454 - val_loss: 5.2145 - val_accuracy: 0.2988\n",
            "Epoch 12/30\n",
            "512/512 [==============================] - 19s 37ms/step - loss: 3.0781 - accuracy: 0.3445 - val_loss: 4.6862 - val_accuracy: 0.3309\n",
            "Epoch 13/30\n",
            "512/512 [==============================] - 19s 37ms/step - loss: 3.0571 - accuracy: 0.3466 - val_loss: 4.2025 - val_accuracy: 0.3413\n",
            "Epoch 14/30\n",
            "512/512 [==============================] - 19s 37ms/step - loss: 2.9663 - accuracy: 0.3541 - val_loss: 3.7620 - val_accuracy: 0.3346\n",
            "Epoch 15/30\n",
            "512/512 [==============================] - 19s 37ms/step - loss: 2.9875 - accuracy: 0.3518 - val_loss: 4.4461 - val_accuracy: 0.2534\n",
            "Epoch 16/30\n",
            "512/512 [==============================] - 19s 37ms/step - loss: 3.0214 - accuracy: 0.3505 - val_loss: 4.3774 - val_accuracy: 0.3216\n",
            "Epoch 17/30\n",
            "512/512 [==============================] - 19s 37ms/step - loss: 2.9715 - accuracy: 0.3557 - val_loss: 3.1767 - val_accuracy: 0.3358\n",
            "Epoch 18/30\n",
            "512/512 [==============================] - 19s 37ms/step - loss: 2.8453 - accuracy: 0.3600 - val_loss: 2.8583 - val_accuracy: 0.3406\n",
            "Epoch 19/30\n",
            "512/512 [==============================] - 19s 37ms/step - loss: 2.7738 - accuracy: 0.3595 - val_loss: 3.9261 - val_accuracy: 0.3256\n",
            "Epoch 20/30\n",
            "512/512 [==============================] - 19s 37ms/step - loss: 2.9484 - accuracy: 0.3628 - val_loss: 2.3596 - val_accuracy: 0.4059\n",
            "Epoch 21/30\n",
            "512/512 [==============================] - 19s 37ms/step - loss: 2.9160 - accuracy: 0.3647 - val_loss: 3.5001 - val_accuracy: 0.3142\n",
            "Epoch 22/30\n",
            "512/512 [==============================] - 19s 37ms/step - loss: 2.7828 - accuracy: 0.3682 - val_loss: 3.3985 - val_accuracy: 0.3852\n",
            "Epoch 23/30\n",
            "512/512 [==============================] - 19s 37ms/step - loss: 2.9664 - accuracy: 0.3667 - val_loss: 5.4375 - val_accuracy: 0.2167\n",
            "Epoch 24/30\n",
            "512/512 [==============================] - 19s 37ms/step - loss: 2.8571 - accuracy: 0.3652 - val_loss: 2.6521 - val_accuracy: 0.2879\n",
            "Epoch 25/30\n",
            "512/512 [==============================] - 19s 37ms/step - loss: 2.7577 - accuracy: 0.3714 - val_loss: 3.8768 - val_accuracy: 0.3129\n",
            "Epoch 26/30\n",
            "512/512 [==============================] - 19s 37ms/step - loss: 2.8023 - accuracy: 0.3673 - val_loss: 3.3266 - val_accuracy: 0.2583\n",
            "Epoch 27/30\n",
            "512/512 [==============================] - 19s 37ms/step - loss: 3.0740 - accuracy: 0.3624 - val_loss: 3.7411 - val_accuracy: 0.3690\n",
            "Epoch 28/30\n",
            "512/512 [==============================] - 19s 37ms/step - loss: 2.9481 - accuracy: 0.3666 - val_loss: 3.2970 - val_accuracy: 0.3181\n",
            "Epoch 29/30\n",
            "512/512 [==============================] - 19s 37ms/step - loss: 2.6091 - accuracy: 0.3807 - val_loss: 3.7027 - val_accuracy: 0.3152\n",
            "Epoch 30/30\n",
            "512/512 [==============================] - 19s 37ms/step - loss: 2.8682 - accuracy: 0.3672 - val_loss: 3.0381 - val_accuracy: 0.3812\n"
          ]
        }
      ]
    },
    {
      "cell_type": "code",
      "source": [
        "plt.plot(history.history['accuracy'])\n",
        "plt.plot(history.history['val_accuracy'])\n",
        "plt.title('InceptionV3 model accuracy on FER2013')\n",
        "plt.ylabel('accuracy')\n",
        "plt.xlabel('epoch')\n",
        "plt.legend(['train', 'val'], loc='upper left')\n",
        "plt.savefig('InceptionV3_FER2013_model_accuracy.png')\n",
        "!cp InceptionV3_FER2013_model_accuracy.png \"/content/drive/MyDrive/Research/\"\n",
        "plt.show()\n"
      ],
      "metadata": {
        "id": "-rFxjSBJiCwu",
        "colab": {
          "base_uri": "https://localhost:8080/",
          "height": 295
        },
        "outputId": "0627f12a-95d9-490b-9eea-fa3aa74786b2"
      },
      "execution_count": 34,
      "outputs": [
        {
          "output_type": "display_data",
          "data": {
            "text/plain": [
              "<Figure size 432x288 with 1 Axes>"
            ],
            "image/png": "[encoded data removed]"
          },
          "metadata": {
            "needs_background": "light"
          }
        }
      ]
    },
    {
      "cell_type": "code",
      "source": [
        "plt.plot(history.history['loss'])\n",
        "plt.plot(history.history['val_loss'])\n",
        "plt.title('InceptionV3 model loss on FER2013')\n",
        "plt.ylabel('loss')\n",
        "plt.xlabel('epoch')\n",
        "plt.legend(['train', 'val'], loc='upper left')\n",
        "plt.savefig('InceptionV3_FER2013_model_loss.png')\n",
        "!cp InceptionV3_FER2013_model_loss.png \"/content/drive/MyDrive/Research/\"\n",
        "plt.show()"
      ],
      "metadata": {
        "id": "wZYi1OCUiCzS",
        "colab": {
          "base_uri": "https://localhost:8080/",
          "height": 295
        },
        "outputId": "f51c3a80-e602-4281-e9cf-3acf3460a9e4"
      },
      "execution_count": 35,
      "outputs": [
        {
          "output_type": "display_data",
          "data": {
            "text/plain": [
              "<Figure size 432x288 with 1 Axes>"
            ],
            "image/png": "[encoded data removed]"
          },
          "metadata": {
            "needs_background": "light"
          }
        }
      ]
    },
    {
      "cell_type": "code",
      "source": [
        "print(\"Training Accuracy \",max(history.history['accuracy']))\n",
        "print(\"Testing Accuracy\",max(history.history['val_accuracy']))\n"
      ],
      "metadata": {
        "id": "W2iTAO39iyHK",
        "colab": {
          "base_uri": "https://localhost:8080/"
        },
        "outputId": "62ae3f1a-6c3e-4f67-d1bc-f3d4839c45e1"
      },
      "execution_count": 36,
      "outputs": [
        {
          "output_type": "stream",
          "name": "stdout",
          "text": [
            "Training Accuracy  0.38066723942756653\n",
            "Testing Accuracy 0.4059024751186371\n"
          ]
        }
      ]
    },
    {
      "cell_type": "code",
      "source": [
        "#Save the Model \n",
        "model.save(\"InceptionV3_FER2013\")\n",
        "!cp -r InceptionV3_FER2013 \"/content/drive/MyDrive/Research/\"\n",
        "import tensorflow as tf\n",
        "\n",
        "# Convert the model\n",
        "converter = tf.lite.TFLiteConverter.from_saved_model(\"InceptionV3_FER2013\") # path to the SavedModel directory\n",
        "tflite_model = converter.convert()\n",
        "\n",
        "# Save the model in the .tflite .\n",
        "with open('InceptionV3_FER2013.tflite', 'wb') as f:\n",
        "  f.write(tflite_model)\n",
        "\n",
        "# copy the .tflite to Drive\n",
        "!cp InceptionV3_FER2013.tflite \"/content/drive/MyDrive/Research/\""
      ],
      "metadata": {
        "id": "krU4V1iNiC16",
        "colab": {
          "base_uri": "https://localhost:8080/"
        },
        "outputId": "160f2ddf-3b94-453d-abf3-efe90801572e"
      },
      "execution_count": 37,
      "outputs": [
        {
          "output_type": "stream",
          "name": "stderr",
          "text": [
            "WARNING:absl:Found untraced functions such as _jit_compiled_convolution_op, _jit_compiled_convolution_op, _jit_compiled_convolution_op, _jit_compiled_convolution_op, _jit_compiled_convolution_op while saving (showing 5 of 94). These functions will not be directly callable after loading.\n"
          ]
        }
      ]
    },
    {
      "cell_type": "code",
      "source": [],
      "metadata": {
        "id": "00THtT_riC4Q"
      },
      "execution_count": null,
      "outputs": []
    }
  ]
}